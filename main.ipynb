{
  "nbformat": 4,
  "nbformat_minor": 0,
  "metadata": {
    "colab": {
      "name": "main.ipynb",
      "provenance": [],
      "collapsed_sections": [],
      "include_colab_link": true
    },
    "kernelspec": {
      "name": "python3",
      "display_name": "Python 3"
    }
  },
  "cells": [
    {
      "cell_type": "markdown",
      "metadata": {
        "id": "view-in-github",
        "colab_type": "text"
      },
      "source": [
        "<a href=\"https://colab.research.google.com/github/Tarleton-Math/data-science-20-21-hwk01/blob/master/main.ipynb\" target=\"_parent\"><img src=\"https://colab.research.google.com/assets/colab-badge.svg\" alt=\"Open In Colab\"/></a>"
      ]
    },
    {
      "cell_type": "markdown",
      "metadata": {
        "id": "ZNlpEYHNjcT_",
        "colab_type": "text"
      },
      "source": [
        "#  Homework 01\n",
        "## Data Science (masters)\n",
        "## Math 5364 & 5366, Fall 20 & Spring 21\n",
        "## Tarleton State University\n",
        "## Dr. Scott Cook"
      ]
    },
    {
      "cell_type": "markdown",
      "metadata": {
        "id": "ZsUdDDkFjf47",
        "colab_type": "text"
      },
      "source": [
        "# Setup"
      ]
    },
    {
      "cell_type": "markdown",
      "metadata": {
        "id": "Py3JwT_aU9uh",
        "colab_type": "text"
      },
      "source": [
        "1. Create & email your GitHub user name to scook@tarleton.edu\n",
        "1. Login to github with those credentials\n",
        "1. Create personal access token & store in secure location (I use Keepass) - https://docs.github.com/en/github/authenticating-to-github/creating-a-personal-access-token\n",
        "1. Accept invitation to Tarleton-Math group & Data-Science-20-21 team\n",
        "1. Login to google drive\n",
        "1. Click link in my email about hwk01 and accept\n",
        "1. Login to google drive\n",
        "1. Click git_assignment.ipynb\n",
        "1. Click \"Open in Colab\"\n",
        "1. Set your preferred_path (append /hwk to make a hwk subfolder)\n",
        "1. Run the first two cells and then allow, authorize, and follow prompts.  This clones the repo with your personal copy of hwk01 to that preferred path in your google drive.\n",
        "1. In google drive, navagte to this preferred path and double click \"main.ipynb\"\n",
        "1. Open with → Google Colaboratory.  If not there, \"Connect more apps\"\n",
        "1. Do the homework\n",
        "\n",
        "To save progress & submit for grading in your github repo, either:\n",
        "- Use push() in git_assignment.ipynb\n",
        "    - pushes entire folder, not just main.ipynb - useful if you created or modified other files\n",
        "- File → Save a copy in Github\n",
        "    - only pushes main.ipynb\n",
        "    - may need to authorize, allow private repos, add Tarleton-Math/ in front of your username"
      ]
    },
    {
      "cell_type": "code",
      "metadata": {
        "id": "J2Kv02GMrsjl",
        "colab_type": "code",
        "cellView": "both",
        "colab": {}
      },
      "source": [
        "preferred_path = f\"My Drive/active/m5364-6-data-science-20-21/hwk\"   # your preferred google drive path\n",
        "hwk_num = \"01\"\n",
        "\n",
        "import os\n",
        "import google.colab\n",
        "import getpass\n",
        "\n",
        "root_path = \"/content/drive/\"\n",
        "google.colab.drive.mount(root_path)\n",
        "\n",
        "user = input(\"Enter your github username\")\n",
        "\n",
        "your_name = f\"data-science-20-21-hwk{hwk_num}-{user}\"\n",
        "your_path = os.path.join(root_path, preferred_path, your_name)  # path to folder for your local\n",
        "%cd \"{your_path}\""
      ],
      "execution_count": null,
      "outputs": []
    },
    {
      "cell_type": "markdown",
      "metadata": {
        "id": "ofQkZm6jjlsU",
        "colab_type": "text"
      },
      "source": [
        "# Homework"
      ]
    },
    {
      "cell_type": "markdown",
      "metadata": {
        "id": "zaNo1cQ73dnt",
        "colab_type": "text"
      },
      "source": [
        "Consider the famous iris dataset popularized by RA Fisher which contains 4 physical measurements from 150 irises of 3 types: setosa, versicolour, and virginica.  It is available in many many places; I got it here:\n",
        "\n",
        "https://archive.ics.uci.edu/ml/datasets/Iris"
      ]
    },
    {
      "cell_type": "code",
      "metadata": {
        "id": "ayoP4Q7gmla3",
        "colab_type": "code",
        "cellView": "both",
        "colab": {}
      },
      "source": [
        "import numpy as np\n",
        "import pandas as pd\n",
        "\n",
        "df = pd.read_csv(\"iris.data\", names=['sepal_length', 'sepal_width', 'petal_length', 'petal_width', 'class'])\n",
        "df"
      ],
      "execution_count": null,
      "outputs": []
    },
    {
      "cell_type": "markdown",
      "metadata": {
        "id": "3CW5HjMt6Jp6",
        "colab_type": "text"
      },
      "source": [
        "The questions below can be solved with 1 line of code each.\n",
        "\n",
        "Pandas is column-oriented, so df['sepal_length'] gets the sepal_length column and df[['sepal_length', 'petal_length']] gets both sepal and petal lengths columns."
      ]
    },
    {
      "cell_type": "markdown",
      "metadata": {
        "id": "iN80EMFy-Jaw",
        "colab_type": "text"
      },
      "source": [
        "### Find the largest sepal_width"
      ]
    },
    {
      "cell_type": "markdown",
      "metadata": {
        "id": "Q6JTFqxs-T2m",
        "colab_type": "text"
      },
      "source": [
        "### Find the average petal_width"
      ]
    },
    {
      "cell_type": "markdown",
      "metadata": {
        "id": "N7Oh2B1s-XZ9",
        "colab_type": "text"
      },
      "source": [
        "### Create a useful set of summary statistics of sepal_length using .describe()"
      ]
    },
    {
      "cell_type": "markdown",
      "metadata": {
        "id": "aTtLxyWp-dkP",
        "colab_type": "text"
      },
      "source": [
        "### Find the standard deviation of all four numeric columns and sort with largest on top using sort_values."
      ]
    },
    {
      "cell_type": "markdown",
      "metadata": {
        "id": "9EjfOgFo-kBh",
        "colab_type": "text"
      },
      "source": [
        "### For each row, sum the 4 measurements; use argument axis=1."
      ]
    },
    {
      "cell_type": "markdown",
      "metadata": {
        "id": "eatvXR1J8qEw",
        "colab_type": "text"
      },
      "source": [
        "### Because pandas is column-oriented, it is trickier to select rows.  We use .loc[...] to select using names (aka labels) and .iloc[...] to select using position (aka index or integer)."
      ]
    },
    {
      "cell_type": "markdown",
      "metadata": {
        "id": "KvwevR0GAilX",
        "colab_type": "text"
      },
      "source": [
        "### Find the sepal_length in the 3rd row.  Be careful - python starts indexing at 0.  So the first row is row 0."
      ]
    },
    {
      "cell_type": "markdown",
      "metadata": {
        "id": "8rmdNigbEydQ",
        "colab_type": "text"
      },
      "source": [
        "### Python uses : to denote ranges and as placeholders using start:stop:offset.  However, be careful b/c ranges are usually left inclusive but right exclusive.  Ex: df.iloc[1:9:2, :] gives all columns of rows 1, 3, 5, and 7 but not 9 because the stop value is NOT included.  Again, 0-based indexing means these are the second, fourth, sixth, and eighth rows.  Print every second row from the 20th through the 30th."
      ]
    },
    {
      "cell_type": "markdown",
      "metadata": {
        "id": "ftoANhp6BW7p",
        "colab_type": "text"
      },
      "source": [
        "### Python uses negative numbers to select starting at the end and moving backward.  Print the last row."
      ]
    },
    {
      "cell_type": "markdown",
      "metadata": {
        "id": "R7o8hegdCZIu",
        "colab_type": "text"
      },
      "source": [
        "### Sadly, .loc and iloc are restrictive because we often want to mix indexing methods - select rows by position and columns by name (or conversely).  One solution is to first select columns then rows.  Print the sepal_length and sepal_width columns of the last 4 rows"
      ]
    },
    {
      "cell_type": "markdown",
      "metadata": {
        "id": "v2S0GtQMOUf9",
        "colab_type": "text"
      },
      "source": [
        "### CONGRATS - you are done! Go back to git_assignment and push() to your github repo."
      ]
    }
  ]
}